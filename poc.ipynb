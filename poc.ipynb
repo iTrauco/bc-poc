{
 "cells": [
  {
   "cell_type": "markdown",
   "id": "79cfdd02-71e8-4649-8082-a198224f96f5",
   "metadata": {},
   "source": [
    "# WRITE TO G SHEETS\n"
   ]
  },
  {
   "cell_type": "code",
   "execution_count": 2,
   "id": "82e81fad-fa3e-48d8-8309-9c250908c106",
   "metadata": {},
   "outputs": [
    {
     "name": "stderr",
     "output_type": "stream",
     "text": [
      "/home/trauco/botcopy/bc-poc/venv/lib/python3.10/site-packages/df2gspread/df2gspread.py:138: FutureWarning: DataFrame.applymap has been deprecated. Use DataFrame.map instead.\n",
      "  df = df.applymap(str)\n"
     ]
    },
    {
     "name": "stdout",
     "output_type": "stream",
     "text": [
      "The sheet is updated successfully\n"
     ]
    }
   ],
   "source": [
    "\n",
    "#!/usr/bin/env python3\n",
    "# -*- coding: utf-8 -*-\n",
    "\n",
    "# import required modules\n",
    "\n",
    "\n",
    "import pandas as pd\n",
    "import numpy as np\n",
    "import csv\n",
    "\n",
    "# For connect to google sheet\n",
    "import gspread\n",
    "from oauth2client.service_account import ServiceAccountCredentials\n",
    "from df2gspread import df2gspread as d2g\n",
    "\n",
    "\n",
    "# Configure the connection\n",
    "scope = ['https://www.googleapis.com/auth/spreadsheets','https://www.googleapis.com/auth/drive']\n",
    "\n",
    "# Give the path to the Service Account Credential json file\n",
    "credentials = ServiceAccountCredentials.from_json_keyfile_name('/home/trauco/.config/gspread/bc_sa.json', scope)\n",
    "# Authorise your Notebook\n",
    "gc = gspread.authorize(credentials)\n",
    "\n",
    "file = 'test'\n",
    "\n",
    "##### \n",
    "\n",
    "# https://docs.google.com/spreadsheets/d/1xVZggR--CldKqmYZX_2gdl1gEoJt9zclx9Zd7NkM2rg/edit#gid=157505975\n",
    "spreadsheet_key = \"1xVZggR--CldKqmYZX_2gdl1gEoJt9zclx9Zd7NkM2rg\"\n",
    "\n",
    "# csv to df\n",
    "data = f\"{file}.csv\"\n",
    "df = pd.read_csv(data)\n",
    "df2 = df.reset_index()\n",
    "\n",
    "wks_name = 'Data'\n",
    "cell_of_start_df = 'A1'\n",
    "# upload the dataframe of the clients we want to delete\n",
    "d2g.upload(df2,\n",
    "           spreadsheet_key,\n",
    "           wks_name,\n",
    "           credentials=credentials,\n",
    "           col_names=True,\n",
    "           row_names=False,\n",
    "           start_cell = cell_of_start_df,\n",
    "           clean=True)\n",
    "print ('The sheet is updated successfully')"
   ]
  },
  {
   "cell_type": "code",
   "execution_count": 19,
   "id": "074fcc5c-ff30-452d-87cb-9c9c480aedd7",
   "metadata": {},
   "outputs": [],
   "source": [
    "#######\n",
    "# Read Sheet Data\n",
    "\n",
    "# import modules\n",
    "import gspread\n",
    "from google.oauth2.service_account import Credentials\n",
    "import pandas as pd\n",
    "import csv\n",
    "\n",
    "# scopes\n",
    "scope = ['https://www.googleapis.com/auth/spreadsheets',\n",
    "        'https://www.googleapis.com/auth/drive']"
   ]
  },
  {
   "cell_type": "code",
   "execution_count": 20,
   "id": "7e2de34d-7e0a-4b4f-9556-d19935928f6e",
   "metadata": {},
   "outputs": [],
   "source": [
    "creds = Credentials.from_service_account_file(\"/home/trauco/.config/gspread/bc_sa.json\", scopes=scope)\n"
   ]
  },
  {
   "cell_type": "code",
   "execution_count": 21,
   "id": "6e1b9912-46c7-446b-9f1f-671f547825e3",
   "metadata": {},
   "outputs": [],
   "source": [
    "client = gspread.authorize(creds)"
   ]
  },
  {
   "cell_type": "code",
   "execution_count": 22,
   "id": "7f004c5f-ef04-4aa0-b471-da96aba0bc83",
   "metadata": {},
   "outputs": [],
   "source": [
    "google_sh = client.open(\"BotCopy - Config Builder\")\n"
   ]
  },
  {
   "cell_type": "code",
   "execution_count": 23,
   "id": "0488ccc6-5d82-4491-9be1-0408e758304b",
   "metadata": {},
   "outputs": [
    {
     "name": "stdout",
     "output_type": "stream",
     "text": [
      "Empty DataFrame\n",
      "Columns: []\n",
      "Index: []\n"
     ]
    }
   ],
   "source": [
    "sheet1 = google_sh.get_worksheet(0)\n",
    "df = pd.DataFrame(data=sheet1.get_all_values())\n",
    "print(df)"
   ]
  },
  {
   "cell_type": "code",
   "execution_count": 24,
   "id": "52bf88b9-4b5b-4922-bd01-570f2fc5976b",
   "metadata": {},
   "outputs": [],
   "source": [
    "df.to_csv('test_config.zsh', index=False, header=False, escapechar=\"\\n\",doublequote=False, quoting=csv.QUOTE_NONE)\n"
   ]
  },
  {
   "cell_type": "code",
   "execution_count": null,
   "id": "aee0b4f1-a0a6-41be-9a85-857d66be245f",
   "metadata": {},
   "outputs": [],
   "source": []
  },
  {
   "cell_type": "code",
   "execution_count": null,
   "id": "c461ffe3-a0e8-46f2-b0f8-b00bf51981dd",
   "metadata": {},
   "outputs": [],
   "source": []
  },
  {
   "cell_type": "code",
   "execution_count": null,
   "id": "7b7f4e30-bc7c-4664-bee8-3d34d0b94a51",
   "metadata": {},
   "outputs": [],
   "source": []
  },
  {
   "cell_type": "code",
   "execution_count": null,
   "id": "bc04a87f-62ec-4839-aab6-61f65ca1166e",
   "metadata": {},
   "outputs": [],
   "source": []
  },
  {
   "cell_type": "markdown",
   "id": "8308a59a-dc61-4602-ac8f-8c8f9d15c28f",
   "metadata": {},
   "source": [
    "# "
   ]
  }
 ],
 "metadata": {
  "kernelspec": {
   "display_name": "Python 3 (ipykernel)",
   "language": "python",
   "name": "python3"
  },
  "language_info": {
   "codemirror_mode": {
    "name": "ipython",
    "version": 3
   },
   "file_extension": ".py",
   "mimetype": "text/x-python",
   "name": "python",
   "nbconvert_exporter": "python",
   "pygments_lexer": "ipython3",
   "version": "3.10.12"
  }
 },
 "nbformat": 4,
 "nbformat_minor": 5
}
